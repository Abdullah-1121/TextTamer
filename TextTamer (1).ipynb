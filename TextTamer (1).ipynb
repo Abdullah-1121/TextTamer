{
  "nbformat": 4,
  "nbformat_minor": 0,
  "metadata": {
    "colab": {
      "provenance": []
    },
    "kernelspec": {
      "name": "python3",
      "display_name": "Python 3"
    },
    "language_info": {
      "name": "python"
    }
  },
  "cells": [
    {
      "cell_type": "code",
      "execution_count": null,
      "metadata": {
        "id": "j9SEIvoUPo1M"
      },
      "outputs": [],
      "source": []
    },
    {
      "cell_type": "markdown",
      "source": [
        "# **TextTamer**  "
      ],
      "metadata": {
        "id": "_Nxa0YHVPtRl"
      }
    },
    {
      "cell_type": "markdown",
      "source": [
        "Installing the Necessary Packages"
      ],
      "metadata": {
        "id": "KtwEPGEiQCb1"
      }
    },
    {
      "cell_type": "code",
      "source": [
        "!pip install -q -U langchain langgraph langchain-google-genai"
      ],
      "metadata": {
        "colab": {
          "base_uri": "https://localhost:8080/"
        },
        "id": "s_1YJWAcQPll",
        "outputId": "155dc8f4-1576-46cb-c543-8703be0adcb5",
        "collapsed": true
      },
      "execution_count": 4,
      "outputs": [
        {
          "output_type": "stream",
          "name": "stdout",
          "text": [
            "\u001b[2K     \u001b[90m━━━━━━━━━━━━━━━━━━━━━━━━━━━━━━━━━━━━━━━━\u001b[0m \u001b[32m50.4/50.4 kB\u001b[0m \u001b[31m2.1 MB/s\u001b[0m eta \u001b[36m0:00:00\u001b[0m\n",
            "\u001b[2K   \u001b[90m━━━━━━━━━━━━━━━━━━━━━━━━━━━━━━━━━━━━━━━━\u001b[0m \u001b[32m1.0/1.0 MB\u001b[0m \u001b[31m17.6 MB/s\u001b[0m eta \u001b[36m0:00:00\u001b[0m\n",
            "\u001b[2K   \u001b[90m━━━━━━━━━━━━━━━━━━━━━━━━━━━━━━━━━━━━━━━━\u001b[0m \u001b[32m107.4/107.4 kB\u001b[0m \u001b[31m7.2 MB/s\u001b[0m eta \u001b[36m0:00:00\u001b[0m\n",
            "\u001b[2K   \u001b[90m━━━━━━━━━━━━━━━━━━━━━━━━━━━━━━━━━━━━━━━━\u001b[0m \u001b[32m401.8/401.8 kB\u001b[0m \u001b[31m22.3 MB/s\u001b[0m eta \u001b[36m0:00:00\u001b[0m\n",
            "\u001b[2K   \u001b[90m━━━━━━━━━━━━━━━━━━━━━━━━━━━━━━━━━━━━━━━━\u001b[0m \u001b[32m294.6/294.6 kB\u001b[0m \u001b[31m18.1 MB/s\u001b[0m eta \u001b[36m0:00:00\u001b[0m\n",
            "\u001b[2K   \u001b[90m━━━━━━━━━━━━━━━━━━━━━━━━━━━━━━━━━━━━━━━━\u001b[0m \u001b[32m76.4/76.4 kB\u001b[0m \u001b[31m4.9 MB/s\u001b[0m eta \u001b[36m0:00:00\u001b[0m\n",
            "\u001b[2K   \u001b[90m━━━━━━━━━━━━━━━━━━━━━━━━━━━━━━━━━━━━━━━━\u001b[0m \u001b[32m78.0/78.0 kB\u001b[0m \u001b[31m5.2 MB/s\u001b[0m eta \u001b[36m0:00:00\u001b[0m\n",
            "\u001b[2K   \u001b[90m━━━━━━━━━━━━━━━━━━━━━━━━━━━━━━━━━━━━━━━━\u001b[0m \u001b[32m378.0/378.0 kB\u001b[0m \u001b[31m20.6 MB/s\u001b[0m eta \u001b[36m0:00:00\u001b[0m\n",
            "\u001b[2K   \u001b[90m━━━━━━━━━━━━━━━━━━━━━━━━━━━━━━━━━━━━━━━━\u001b[0m \u001b[32m141.9/141.9 kB\u001b[0m \u001b[31m9.2 MB/s\u001b[0m eta \u001b[36m0:00:00\u001b[0m\n",
            "\u001b[2K   \u001b[90m━━━━━━━━━━━━━━━━━━━━━━━━━━━━━━━━━━━━━━━━\u001b[0m \u001b[32m54.5/54.5 kB\u001b[0m \u001b[31m2.7 MB/s\u001b[0m eta \u001b[36m0:00:00\u001b[0m\n",
            "\u001b[2K   \u001b[90m━━━━━━━━━━━━━━━━━━━━━━━━━━━━━━━━━━━━━━━━\u001b[0m \u001b[32m58.3/58.3 kB\u001b[0m \u001b[31m3.0 MB/s\u001b[0m eta \u001b[36m0:00:00\u001b[0m\n",
            "\u001b[?25h"
          ]
        }
      ]
    },
    {
      "cell_type": "markdown",
      "source": [
        "Setting the ENV keys"
      ],
      "metadata": {
        "id": "ZI3dJeFsQ8pN"
      }
    },
    {
      "cell_type": "code",
      "source": [
        "from google.colab import userdata\n",
        "gemini_api_key = userdata.get('GEMINI_API_KEY')"
      ],
      "metadata": {
        "id": "AMTp_NXCRADN"
      },
      "execution_count": 5,
      "outputs": []
    },
    {
      "cell_type": "markdown",
      "source": [
        "Initializing the Model"
      ],
      "metadata": {
        "id": "jN8dnw8NRMyN"
      }
    },
    {
      "cell_type": "code",
      "source": [
        "from langchain_google_genai import ChatGoogleGenerativeAI\n",
        "# Initializing the model\n",
        "model = ChatGoogleGenerativeAI(model = 'gemini-1.5-flash' , api_key=gemini_api_key , temprature = 0.3)\n"
      ],
      "metadata": {
        "id": "BUf-qopkRRst"
      },
      "execution_count": 6,
      "outputs": []
    },
    {
      "cell_type": "markdown",
      "source": [
        "Creating State"
      ],
      "metadata": {
        "id": "uJSFYGKSR831"
      }
    },
    {
      "cell_type": "code",
      "source": [
        "from typing_extensions import TypedDict\n",
        "from typing import Dict\n",
        "class State(TypedDict):\n",
        "  text : str\n",
        "  category : str\n",
        "  keys : list[str]\n",
        "  glossary : Dict[str,str]\n",
        "  summary : str"
      ],
      "metadata": {
        "id": "PaAZq4t3RWKF"
      },
      "execution_count": 24,
      "outputs": []
    },
    {
      "cell_type": "markdown",
      "source": [
        "### **NODES**"
      ],
      "metadata": {
        "id": "XETHiOPhS8Tr"
      }
    },
    {
      "cell_type": "code",
      "source": [
        "from langchain.prompts import PromptTemplate\n",
        "from langchain_core.messages import HumanMessage\n",
        "\n",
        "#  Classification Node\n",
        "\n",
        "def Classify(state:State):\n",
        "   ''' We will Classify the text into one of the categories: News, Blog, Research, or Other '''\n",
        "   prompt = PromptTemplate(\n",
        "       input_variables=[\"text\"],\n",
        "       template = \"Classify this text into one of the categories: News, Blog, Research, or if it dont exist in these categories then return the suitable one in a single word , for example like : Blog \\n {text}\"\n",
        "   )\n",
        "   message = HumanMessage(prompt.format(text=state['text']))\n",
        "   category = model.predict_messages([message]).content.strip()\n",
        "   return {\"category\" : category}\n",
        "#  Keyword Extraction Node\n",
        "\n",
        "def Keyword(state:State):\n",
        "   ''' We will Extract Important Entities (Person , Location , Organization etc) from the text  '''\n",
        "   prompt = PromptTemplate(\n",
        "       input_variables=[\"text\"],\n",
        "       template = \"Extract no more than 2-3 important terms and difficult or specialized keywords from the  text if the text is of 2 3 lines and if the text is bigger than adjust with this average. Only include uncommon or technical words that might not be widely understood by the general public, and ignore common or general terms.Just Return the terms without any mardown symbols \\n\\nText:{text}\\n\\n Important Keywords:\"\n",
        "   )\n",
        "   message = HumanMessage(prompt.format(text=state['text']))\n",
        "   keys = model.predict_messages([message]).content.strip().split(', ')\n",
        "   return {\"keys\" : keys }\n",
        "   #  Glossary Node\n",
        "\n",
        "def Glossary(state:State):\n",
        "  ''' We will Provide the Glossary of these Entities Extracted Previously '''\n",
        "  prompt = PromptTemplate(\n",
        "       input_variables=[\"keys\"], # Changed input_variables to 'keys'\n",
        "       template = \"provide a one liner easy explanation of the each key word in this list /n{keys} , and response in key value pairs like in a dictioanry without any markdown symbols just key values in inverted commas\"\n",
        "  )\n",
        "\n",
        "  # Accessing keys directly using state['keys']\n",
        "  message = HumanMessage(prompt.format(keys=state['keys']))\n",
        "  glossary = model.predict_messages([message]).content.strip() # Assuming the model's response can be split by ', '\n",
        "  return {\"glossary\" : glossary }\n",
        "  #  Summary Node\n",
        "\n",
        "def Summary(state:State):\n",
        "  ''' We will Sumarize the text   '''\n",
        "  prompt = PromptTemplate(\n",
        "       input_variables=[\"text\"],\n",
        "       template = \"Summarize this text into easy and simple words so that anyone can easily understand\\n\\nText:{text}\\n\\n Summary : \"\n",
        "   )\n",
        "  message = HumanMessage(prompt.format(text=state['text']))\n",
        "  summary = model.predict_messages([message]).content.strip()\n",
        "  return {\"summary\" : summary }"
      ],
      "metadata": {
        "id": "_1U2sOWtX6G1"
      },
      "execution_count": 89,
      "outputs": []
    },
    {
      "cell_type": "code",
      "source": [
        "from langgraph.graph import StateGraph , START , END\n",
        "from IPython.display import display, Image\n",
        "# Graph\n",
        "builder = StateGraph(State)\n",
        "# Nodes\n",
        "builder.add_node(\"Classify\",Classify)\n",
        "builder.add_node(\"Keyword\",Keyword)\n",
        "builder.add_node(\"Glossary\",Glossary)\n",
        "builder.add_node(\"Summary\",Summary)\n",
        "# Edges\n",
        "builder.add_edge(START,\"Classify\")\n",
        "builder.add_edge(\"Classify\",\"Keyword\")\n",
        "builder.add_edge(\"Keyword\",\"Glossary\")\n",
        "builder.add_edge(\"Glossary\",\"Summary\")\n",
        "builder.add_edge(\"Summary\",END)\n",
        "# Compile\n",
        "graph = builder.compile()\n",
        "display(Image(graph.get_graph().draw_mermaid_png()))\n",
        "\n",
        "\n"
      ],
      "metadata": {
        "colab": {
          "base_uri": "https://localhost:8080/",
          "height": 548
        },
        "id": "N6mSb7PbNmFR",
        "outputId": "e33f913e-90cc-4f98-caca-11d137f07845"
      },
      "execution_count": 90,
      "outputs": [
        {
          "output_type": "display_data",
          "data": {
            "image/jpeg": "[encoded data removed]",
            "text/plain": [
              "<IPython.core.display.Image object>"
            ]
          },
          "metadata": {}
        }
      ]
    },
    {
      "cell_type": "code",
      "source": [
        "sample_text = \"\"\"\n",
        "AI has captured the imagination and attention of people globally. But in the business world, the rate of adoption of artificial intelligence has lagged behind the level of interest through 2019. Even though we hear that most business leaders believe AI provides a competitive advantage, up until recently, some industry watchers have pegged enterprise adoption.\n",
        "\"\"\"\n",
        "state_input = {\"text\": sample_text}\n",
        "result = graph.invoke(state_input)\n",
        "print(\"Category:\", result[\"category\"])\n",
        "keywords = result['keys']\n",
        "print ('Important Terms')\n",
        "for k in keywords:\n",
        "  print(f\"- {k}\")\n",
        "glossary = result['glossary']\n",
        "print(glossary)\n",
        "print(\"\\nSummary:\\n\", result[\"summary\"])\n"
      ],
      "metadata": {
        "colab": {
          "base_uri": "https://localhost:8080/"
        },
        "collapsed": true,
        "id": "uQ5Vg8KGgdjs",
        "outputId": "0e1d5190-7637-4618-e4ef-610a0249709b"
      },
      "execution_count": 105,
      "outputs": [
        {
          "output_type": "stream",
          "name": "stdout",
          "text": [
            "Category: Blog\n",
            "Important Terms\n",
            "- Artificial intelligence\n",
            "- Enterprise adoption\n",
            "{ 'Artificial intelligence': 'Computers mimicking human intelligence', 'Enterprise adoption': 'Businesses using new technologies'}\n",
            "\n",
            "Summary:\n",
            " Even though everyone is talking about AI, businesses haven't been using it as much as you'd think.  Even though business leaders think AI can help them win, not many companies have actually started using it.\n"
          ]
        }
      ]
    }
  ]
}